{
 "cells": [
  {
   "cell_type": "code",
   "execution_count": 2,
   "metadata": {
    "id": "XxZtFbA3dyfx"
   },
   "outputs": [
    {
     "name": "stdout",
     "output_type": "stream",
     "text": [
      "Number of images: 87000\n",
      "Shape of X: (87000, 64, 64, 1)\n",
      "Shape of y: (87000, 29)\n"
     ]
    }
   ],
   "source": [
    "# Import necessary libraries\n",
    "import os\n",
    "import cv2\n",
    "import numpy as np\n",
    "from sklearn.model_selection import train_test_split\n",
    "from keras.utils import to_categorical\n",
    "\n",
    "# Define constants\n",
    "data_dir = \"C:/Users/abhay/Downloads/asl_alphabet_train/asl_alphabet_train\"\n",
    "img_size = 64\n",
    "num_classes = 29  # 26 letters + 'del', 'nothing', 'space'\n",
    "\n",
    "# Load and preprocess the data\n",
    "data = []\n",
    "labels = []\n",
    "\n",
    "for label in os.listdir(data_dir):\n",
    "    path = os.path.join(data_dir, label)\n",
    "    for img in os.listdir(path):\n",
    "        img_path = os.path.join(path, img)\n",
    "        img_array = cv2.imread(img_path, cv2.IMREAD_GRAYSCALE)\n",
    "        img_array = cv2.resize(img_array, (img_size, img_size))\n",
    "        data.append([img_array, label])\n",
    "\n",
    "# Shuffle the data\n",
    "np.random.shuffle(data)\n",
    "\n",
    "# Split data into features and labels\n",
    "X = np.array([i[0] for i in data]).reshape(-1, img_size, img_size, 1)\n",
    "y = to_categorical([ord(i[1]) - ord('A') if 'A' <= i[1] <= 'Z' else\n",
    "                   26 if i[1] == 'del' else\n",
    "                   27 if i[1] == 'nothing' else\n",
    "                   28  # 'space'\n",
    "                   for i in data], num_classes=num_classes)\n",
    "\n",
    "# Split the data into training and testing sets\n",
    "X_train, X_test, y_train, y_test = train_test_split(X, y, test_size=0.2, random_state=42)\n",
    "\n",
    "print(f\"Number of images: {len(data)}\")\n",
    "print(f\"Shape of X: {X.shape}\")\n",
    "print(f\"Shape of y: {y.shape}\")"
   ]
  },
  {
   "cell_type": "code",
   "execution_count": 3,
   "metadata": {
    "colab": {
     "base_uri": "https://localhost:8080/",
     "height": 245
    },
    "executionInfo": {
     "elapsed": 447,
     "status": "error",
     "timestamp": 1704574071422,
     "user": {
      "displayName": "ABHAY NARAYAN PANDEY 21BCE10348",
      "userId": "17922562176535582959"
     },
     "user_tz": -330
    },
    "id": "TizvH7t9eZQA",
    "outputId": "7683453f-b011-4092-a85f-a72770af0be6"
   },
   "outputs": [
    {
     "name": "stdout",
     "output_type": "stream",
     "text": [
      "WARNING:tensorflow:From C:\\Users\\abhay\\anaconda3\\Lib\\site-packages\\keras\\src\\backend.py:873: The name tf.get_default_graph is deprecated. Please use tf.compat.v1.get_default_graph instead.\n",
      "\n",
      "WARNING:tensorflow:From C:\\Users\\abhay\\anaconda3\\Lib\\site-packages\\keras\\src\\layers\\pooling\\max_pooling2d.py:161: The name tf.nn.max_pool is deprecated. Please use tf.nn.max_pool2d instead.\n",
      "\n",
      "WARNING:tensorflow:From C:\\Users\\abhay\\anaconda3\\Lib\\site-packages\\keras\\src\\optimizers\\__init__.py:309: The name tf.train.Optimizer is deprecated. Please use tf.compat.v1.train.Optimizer instead.\n",
      "\n",
      "Model: \"sequential\"\n",
      "_________________________________________________________________\n",
      " Layer (type)                Output Shape              Param #   \n",
      "=================================================================\n",
      " conv2d (Conv2D)             (None, 62, 62, 32)        320       \n",
      "                                                                 \n",
      " max_pooling2d (MaxPooling2  (None, 31, 31, 32)        0         \n",
      " D)                                                              \n",
      "                                                                 \n",
      " conv2d_1 (Conv2D)           (None, 29, 29, 64)        18496     \n",
      "                                                                 \n",
      " max_pooling2d_1 (MaxPoolin  (None, 14, 14, 64)        0         \n",
      " g2D)                                                            \n",
      "                                                                 \n",
      " flatten (Flatten)           (None, 12544)             0         \n",
      "                                                                 \n",
      " dense (Dense)               (None, 128)               1605760   \n",
      "                                                                 \n",
      " dense_1 (Dense)             (None, 29)                3741      \n",
      "                                                                 \n",
      "=================================================================\n",
      "Total params: 1628317 (6.21 MB)\n",
      "Trainable params: 1628317 (6.21 MB)\n",
      "Non-trainable params: 0 (0.00 Byte)\n",
      "_________________________________________________________________\n"
     ]
    }
   ],
   "source": [
    "# Import necessary libraries for building the CNN model\n",
    "from keras.models import Sequential\n",
    "from keras.layers import Conv2D, MaxPooling2D, Flatten, Dense\n",
    "\n",
    "# Define the input shape\n",
    "input_shape = (img_size, img_size, 1)\n",
    "\n",
    "# Build the CNN model\n",
    "model = Sequential()\n",
    "\n",
    "model.add(Conv2D(32, (3, 3), input_shape=input_shape, activation='relu'))\n",
    "model.add(MaxPooling2D(pool_size=(2, 2)))\n",
    "\n",
    "model.add(Conv2D(64, (3, 3), activation='relu'))\n",
    "model.add(MaxPooling2D(pool_size=(2, 2)))\n",
    "\n",
    "model.add(Flatten())\n",
    "model.add(Dense(128, activation='relu'))\n",
    "model.add(Dense(num_classes, activation='softmax'))  # Use num_classes instead of 26\n",
    "\n",
    "# Compile the model\n",
    "model.compile(optimizer='adam', loss='categorical_crossentropy', metrics=['accuracy'])\n",
    "\n",
    "model.summary()"
   ]
  },
  {
   "cell_type": "code",
   "execution_count": 4,
   "metadata": {
    "colab": {
     "base_uri": "https://localhost:8080/",
     "height": 262
    },
    "executionInfo": {
     "elapsed": 443,
     "status": "error",
     "timestamp": 1704574039553,
     "user": {
      "displayName": "ABHAY NARAYAN PANDEY 21BCE10348",
      "userId": "17922562176535582959"
     },
     "user_tz": -330
    },
    "id": "_4IElqftekpY",
    "outputId": "496b2343-3e16-4bd5-9439-92bb357f23ab"
   },
   "outputs": [
    {
     "name": "stdout",
     "output_type": "stream",
     "text": [
      "Epoch 1/10\n",
      "WARNING:tensorflow:From C:\\Users\\abhay\\anaconda3\\Lib\\site-packages\\keras\\src\\utils\\tf_utils.py:492: The name tf.ragged.RaggedTensorValue is deprecated. Please use tf.compat.v1.ragged.RaggedTensorValue instead.\n",
      "\n",
      "WARNING:tensorflow:From C:\\Users\\abhay\\anaconda3\\Lib\\site-packages\\keras\\src\\engine\\base_layer_utils.py:384: The name tf.executing_eagerly_outside_functions is deprecated. Please use tf.compat.v1.executing_eagerly_outside_functions instead.\n",
      "\n",
      "2175/2175 [==============================] - 80s 36ms/step - loss: 1.4739 - accuracy: 0.5487 - val_loss: 683.6526 - val_accuracy: 0.4087\n",
      "Epoch 2/10\n",
      "2175/2175 [==============================] - 76s 35ms/step - loss: 0.5564 - accuracy: 0.8180 - val_loss: 1422.0901 - val_accuracy: 0.3402\n",
      "Epoch 3/10\n",
      "2175/2175 [==============================] - 76s 35ms/step - loss: 0.3436 - accuracy: 0.8866 - val_loss: 2655.7476 - val_accuracy: 0.2802\n",
      "Epoch 4/10\n",
      "2175/2175 [==============================] - 76s 35ms/step - loss: 0.2453 - accuracy: 0.9197 - val_loss: 4545.0000 - val_accuracy: 0.2052\n",
      "Epoch 5/10\n",
      "2175/2175 [==============================] - 75s 34ms/step - loss: 0.1909 - accuracy: 0.9367 - val_loss: 6657.8994 - val_accuracy: 0.1656\n",
      "Epoch 6/10\n",
      "2175/2175 [==============================] - 77s 35ms/step - loss: 0.1513 - accuracy: 0.9488 - val_loss: 7839.8491 - val_accuracy: 0.1539\n",
      "Epoch 7/10\n",
      "2175/2175 [==============================] - 75s 35ms/step - loss: 0.1271 - accuracy: 0.9577 - val_loss: 9309.9873 - val_accuracy: 0.1231\n",
      "Epoch 8/10\n",
      "2175/2175 [==============================] - 76s 35ms/step - loss: 0.1063 - accuracy: 0.9639 - val_loss: 9814.0840 - val_accuracy: 0.1267\n",
      "Epoch 9/10\n",
      "2175/2175 [==============================] - 76s 35ms/step - loss: 0.0979 - accuracy: 0.9677 - val_loss: 12729.4297 - val_accuracy: 0.1067\n",
      "Epoch 10/10\n",
      "2175/2175 [==============================] - 78s 36ms/step - loss: 0.0843 - accuracy: 0.9720 - val_loss: 15149.7471 - val_accuracy: 0.0918\n"
     ]
    },
    {
     "data": {
      "text/plain": [
       "<keras.src.callbacks.History at 0x25277b38710>"
      ]
     },
     "execution_count": 4,
     "metadata": {},
     "output_type": "execute_result"
    }
   ],
   "source": [
    "from keras.preprocessing.image import ImageDataGenerator\n",
    "\n",
    "# Augment images during training\n",
    "datagen = ImageDataGenerator(rescale=1./255,\n",
    "                             shear_range=0.2,\n",
    "                             zoom_range=0.2,\n",
    "                             horizontal_flip=True)\n",
    "\n",
    "datagen.fit(X_train)\n",
    "\n",
    "# Train the model\n",
    "model.fit(datagen.flow(X_train, y_train, batch_size=32),\n",
    "          steps_per_epoch=len(X_train) / 32,\n",
    "          epochs=10,\n",
    "          validation_data=(X_test, y_test))"
   ]
  },
  {
   "cell_type": "code",
   "execution_count": 6,
   "metadata": {},
   "outputs": [],
   "source": [
    "model.save(\"asl_model.keras\")"
   ]
  }
 ],
 "metadata": {
  "colab": {
   "authorship_tag": "ABX9TyOqUfRihXUIyRBqL/VkIxiv",
   "mount_file_id": "1ypqGQaAU0nF56mBHHW5B2eCD3j8hTgwC",
   "provenance": []
  },
  "kernelspec": {
   "display_name": "Python 3 (ipykernel)",
   "language": "python",
   "name": "python3"
  },
  "language_info": {
   "codemirror_mode": {
    "name": "ipython",
    "version": 3
   },
   "file_extension": ".py",
   "mimetype": "text/x-python",
   "name": "python",
   "nbconvert_exporter": "python",
   "pygments_lexer": "ipython3",
   "version": "3.11.5"
  }
 },
 "nbformat": 4,
 "nbformat_minor": 1
}
